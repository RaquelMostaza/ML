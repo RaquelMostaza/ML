{
 "cells": [
  {
   "cell_type": "code",
   "execution_count": 1,
   "metadata": {},
   "outputs": [
    {
     "name": "stdout",
     "output_type": "stream",
     "text": [
      "johnsmith@gmail.com\n",
      "johnsmith@gmail.com\n"
     ]
    }
   ],
   "source": [
    "def normalize_address(address):\n",
    "    name, domain = map(str.lower, address.split('@'))\n",
    "    if domain == 'gmail.com':\n",
    "        name = name.replace('.', '')\n",
    "        if '+' in name:\n",
    "            name, tag = name.split('+', 1)\n",
    "    return f'{name}@{domain}'\n",
    "\n",
    "\n",
    "addresses = [\n",
    "    'johnsmith+panerabread@gmail.com',\n",
    "    'jOhN.sMiTh@gmail.com'\n",
    "]\n",
    "\n",
    "for address in addresses:\n",
    "    print(normalize_address(address))"
   ]
  }
 ],
 "metadata": {
  "kernelspec": {
   "display_name": "Python 3",
   "language": "python",
   "name": "python3"
  },
  "language_info": {
   "codemirror_mode": {
    "name": "ipython",
    "version": 3
   },
   "file_extension": ".py",
   "mimetype": "text/x-python",
   "name": "python",
   "nbconvert_exporter": "python",
   "pygments_lexer": "ipython3",
   "version": "3.10.11"
  }
 },
 "nbformat": 4,
 "nbformat_minor": 2
}
